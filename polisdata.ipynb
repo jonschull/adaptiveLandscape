{
 "metadata": {
  "language_info": {
   "codemirror_mode": {
    "name": "ipython",
    "version": 3
   },
   "file_extension": ".py",
   "mimetype": "text/x-python",
   "name": "python",
   "nbconvert_exporter": "python",
   "pygments_lexer": "ipython3",
   "version": "3.7.4-final"
  },
  "orig_nbformat": 2,
  "kernelspec": {
   "name": "python37464bitcbcc2bb1953e49ffb8a36e2f5d665245",
   "display_name": "Python 3.7.4 64-bit"
  }
 },
 "nbformat": 4,
 "nbformat_minor": 2,
 "cells": [
  {
   "cell_type": "code",
   "execution_count": 10,
   "metadata": {},
   "outputs": [],
   "source": [
    "from pandas import read_csv, DataFrame\n",
    "from pprint import pprint\n",
    "#using the biodiversity data from  https://github.com/pol-is/openData/\n"
   ]
  },
  {
   "cell_type": "code",
   "execution_count": 2,
   "metadata": {},
   "outputs": [],
   "source": [
    "comments = read_csv('comments.csv')\n",
    "participants = read_csv('participants-votes.csv')"
   ]
  },
  {
   "cell_type": "code",
   "execution_count": 3,
   "metadata": {},
   "outputs": [],
   "source": [
    "group0 = participants[participants['group-id']==0.0]\n",
    "group1 = participants[participants['group-id']==1.0]"
   ]
  },
  {
   "cell_type": "code",
   "execution_count": 9,
   "metadata": {
    "tags": []
   },
   "outputs": [
    {
     "output_type": "execute_result",
     "data": {
      "text/plain": "    group  question                                    parsedCounts\n0       0         0     {'agrees': 6, 'disagrees': 25, 'passes': 4}\n1       0         1    {'agrees': 13, 'disagrees': 17, 'passes': 5}\n2       0         2     {'agrees': 9, 'disagrees': 21, 'passes': 5}\n3       0         3      {'agrees': 3, 'disagrees': 1, 'passes': 1}\n4       0         4      {'agrees': 2, 'disagrees': 3, 'passes': 0}\n5       0         5    {'agrees': 18, 'disagrees': 12, 'passes': 4}\n6       0         8     {'agrees': 4, 'disagrees': 25, 'passes': 5}\n7       0         9     {'agrees': 7, 'disagrees': 24, 'passes': 3}\n8       0        10     {'agrees': 22, 'disagrees': 7, 'passes': 5}\n9       0        11      {'agrees': 0, 'disagrees': 4, 'passes': 1}\n10      0        12      {'agrees': 0, 'disagrees': 4, 'passes': 1}\n11      0        13      {'agrees': 3, 'disagrees': 1, 'passes': 1}\n12      0        14      {'agrees': 0, 'disagrees': 4, 'passes': 1}\n13      0        15      {'agrees': 0, 'disagrees': 4, 'passes': 1}\n14      0        16      {'agrees': 5, 'disagrees': 0, 'passes': 0}\n15      0        17   {'agrees': 24, 'disagrees': 31, 'passes': 12}\n16      0        18      {'agrees': 0, 'disagrees': 0, 'passes': 0}\n17      1         0  {'agrees': 39, 'disagrees': 109, 'passes': 24}\n18      1         1   {'agrees': 78, 'disagrees': 76, 'passes': 24}\n19      1         2  {'agrees': 38, 'disagrees': 116, 'passes': 22}\n20      1         3    {'agrees': 26, 'disagrees': 12, 'passes': 4}\n21      1         4    {'agrees': 13, 'disagrees': 21, 'passes': 6}\n22      1         5  {'agrees': 30, 'disagrees': 110, 'passes': 21}\n23      1         8   {'agrees': 36, 'disagrees': 99, 'passes': 25}\n24      1         9   {'agrees': 88, 'disagrees': 58, 'passes': 16}\n25      1        10  {'agrees': 38, 'disagrees': 104, 'passes': 20}\n26      1        11     {'agrees': 2, 'disagrees': 34, 'passes': 5}\n27      1        12     {'agrees': 0, 'disagrees': 33, 'passes': 9}\n28      1        13     {'agrees': 34, 'disagrees': 1, 'passes': 6}\n29      1        14     {'agrees': 0, 'disagrees': 34, 'passes': 7}\n30      1        15     {'agrees': 0, 'disagrees': 33, 'passes': 9}\n31      1        16     {'agrees': 38, 'disagrees': 1, 'passes': 2}\n32      1        17   {'agrees': 252, 'disagrees': 3, 'passes': 20}\n33      1        18      {'agrees': 5, 'disagrees': 0, 'passes': 0}",
      "text/html": "<div>\n<style scoped>\n    .dataframe tbody tr th:only-of-type {\n        vertical-align: middle;\n    }\n\n    .dataframe tbody tr th {\n        vertical-align: top;\n    }\n\n    .dataframe thead th {\n        text-align: right;\n    }\n</style>\n<table border=\"1\" class=\"dataframe\">\n  <thead>\n    <tr style=\"text-align: right;\">\n      <th></th>\n      <th>group</th>\n      <th>question</th>\n      <th>parsedCounts</th>\n    </tr>\n  </thead>\n  <tbody>\n    <tr>\n      <td>0</td>\n      <td>0</td>\n      <td>0</td>\n      <td>{'agrees': 6, 'disagrees': 25, 'passes': 4}</td>\n    </tr>\n    <tr>\n      <td>1</td>\n      <td>0</td>\n      <td>1</td>\n      <td>{'agrees': 13, 'disagrees': 17, 'passes': 5}</td>\n    </tr>\n    <tr>\n      <td>2</td>\n      <td>0</td>\n      <td>2</td>\n      <td>{'agrees': 9, 'disagrees': 21, 'passes': 5}</td>\n    </tr>\n    <tr>\n      <td>3</td>\n      <td>0</td>\n      <td>3</td>\n      <td>{'agrees': 3, 'disagrees': 1, 'passes': 1}</td>\n    </tr>\n    <tr>\n      <td>4</td>\n      <td>0</td>\n      <td>4</td>\n      <td>{'agrees': 2, 'disagrees': 3, 'passes': 0}</td>\n    </tr>\n    <tr>\n      <td>5</td>\n      <td>0</td>\n      <td>5</td>\n      <td>{'agrees': 18, 'disagrees': 12, 'passes': 4}</td>\n    </tr>\n    <tr>\n      <td>6</td>\n      <td>0</td>\n      <td>8</td>\n      <td>{'agrees': 4, 'disagrees': 25, 'passes': 5}</td>\n    </tr>\n    <tr>\n      <td>7</td>\n      <td>0</td>\n      <td>9</td>\n      <td>{'agrees': 7, 'disagrees': 24, 'passes': 3}</td>\n    </tr>\n    <tr>\n      <td>8</td>\n      <td>0</td>\n      <td>10</td>\n      <td>{'agrees': 22, 'disagrees': 7, 'passes': 5}</td>\n    </tr>\n    <tr>\n      <td>9</td>\n      <td>0</td>\n      <td>11</td>\n      <td>{'agrees': 0, 'disagrees': 4, 'passes': 1}</td>\n    </tr>\n    <tr>\n      <td>10</td>\n      <td>0</td>\n      <td>12</td>\n      <td>{'agrees': 0, 'disagrees': 4, 'passes': 1}</td>\n    </tr>\n    <tr>\n      <td>11</td>\n      <td>0</td>\n      <td>13</td>\n      <td>{'agrees': 3, 'disagrees': 1, 'passes': 1}</td>\n    </tr>\n    <tr>\n      <td>12</td>\n      <td>0</td>\n      <td>14</td>\n      <td>{'agrees': 0, 'disagrees': 4, 'passes': 1}</td>\n    </tr>\n    <tr>\n      <td>13</td>\n      <td>0</td>\n      <td>15</td>\n      <td>{'agrees': 0, 'disagrees': 4, 'passes': 1}</td>\n    </tr>\n    <tr>\n      <td>14</td>\n      <td>0</td>\n      <td>16</td>\n      <td>{'agrees': 5, 'disagrees': 0, 'passes': 0}</td>\n    </tr>\n    <tr>\n      <td>15</td>\n      <td>0</td>\n      <td>17</td>\n      <td>{'agrees': 24, 'disagrees': 31, 'passes': 12}</td>\n    </tr>\n    <tr>\n      <td>16</td>\n      <td>0</td>\n      <td>18</td>\n      <td>{'agrees': 0, 'disagrees': 0, 'passes': 0}</td>\n    </tr>\n    <tr>\n      <td>17</td>\n      <td>1</td>\n      <td>0</td>\n      <td>{'agrees': 39, 'disagrees': 109, 'passes': 24}</td>\n    </tr>\n    <tr>\n      <td>18</td>\n      <td>1</td>\n      <td>1</td>\n      <td>{'agrees': 78, 'disagrees': 76, 'passes': 24}</td>\n    </tr>\n    <tr>\n      <td>19</td>\n      <td>1</td>\n      <td>2</td>\n      <td>{'agrees': 38, 'disagrees': 116, 'passes': 22}</td>\n    </tr>\n    <tr>\n      <td>20</td>\n      <td>1</td>\n      <td>3</td>\n      <td>{'agrees': 26, 'disagrees': 12, 'passes': 4}</td>\n    </tr>\n    <tr>\n      <td>21</td>\n      <td>1</td>\n      <td>4</td>\n      <td>{'agrees': 13, 'disagrees': 21, 'passes': 6}</td>\n    </tr>\n    <tr>\n      <td>22</td>\n      <td>1</td>\n      <td>5</td>\n      <td>{'agrees': 30, 'disagrees': 110, 'passes': 21}</td>\n    </tr>\n    <tr>\n      <td>23</td>\n      <td>1</td>\n      <td>8</td>\n      <td>{'agrees': 36, 'disagrees': 99, 'passes': 25}</td>\n    </tr>\n    <tr>\n      <td>24</td>\n      <td>1</td>\n      <td>9</td>\n      <td>{'agrees': 88, 'disagrees': 58, 'passes': 16}</td>\n    </tr>\n    <tr>\n      <td>25</td>\n      <td>1</td>\n      <td>10</td>\n      <td>{'agrees': 38, 'disagrees': 104, 'passes': 20}</td>\n    </tr>\n    <tr>\n      <td>26</td>\n      <td>1</td>\n      <td>11</td>\n      <td>{'agrees': 2, 'disagrees': 34, 'passes': 5}</td>\n    </tr>\n    <tr>\n      <td>27</td>\n      <td>1</td>\n      <td>12</td>\n      <td>{'agrees': 0, 'disagrees': 33, 'passes': 9}</td>\n    </tr>\n    <tr>\n      <td>28</td>\n      <td>1</td>\n      <td>13</td>\n      <td>{'agrees': 34, 'disagrees': 1, 'passes': 6}</td>\n    </tr>\n    <tr>\n      <td>29</td>\n      <td>1</td>\n      <td>14</td>\n      <td>{'agrees': 0, 'disagrees': 34, 'passes': 7}</td>\n    </tr>\n    <tr>\n      <td>30</td>\n      <td>1</td>\n      <td>15</td>\n      <td>{'agrees': 0, 'disagrees': 33, 'passes': 9}</td>\n    </tr>\n    <tr>\n      <td>31</td>\n      <td>1</td>\n      <td>16</td>\n      <td>{'agrees': 38, 'disagrees': 1, 'passes': 2}</td>\n    </tr>\n    <tr>\n      <td>32</td>\n      <td>1</td>\n      <td>17</td>\n      <td>{'agrees': 252, 'disagrees': 3, 'passes': 20}</td>\n    </tr>\n    <tr>\n      <td>33</td>\n      <td>1</td>\n      <td>18</td>\n      <td>{'agrees': 5, 'disagrees': 0, 'passes': 0}</td>\n    </tr>\n  </tbody>\n</table>\n</div>"
     },
     "metadata": {},
     "execution_count": 9
    }
   ],
   "source": [
    "#get the data into the countCollection \n",
    "from collections import OrderedDict\n",
    "countColl = []\n",
    "missing = []\n",
    "for i, group in enumerate([group0,group1]):\n",
    "    for q in range(19):# range(topQ+1):\n",
    "        try:\n",
    "            counts = group[str(q)].value_counts(sort=False)\n",
    "            countColl.append(OrderedDict(\n",
    "                group=i,\n",
    "                question = q,\n",
    "                counts = counts\n",
    "            ))\n",
    "        except KeyError:\n",
    "            missing.append(f'missing Group {i}, Q{q}' )\n",
    "#countColl\n",
    "\n",
    "\n",
    "def getVal(c,index):\n",
    "    \"\"\"pandas doesn't show counts of 0, but we will\"\"\"\n",
    "    try:\n",
    "        return c[index]\n",
    "    except KeyError:\n",
    "        return 0\n",
    "\n",
    "for i,row in enumerate(countColl):\n",
    "    c=row['counts']\n",
    "    disagrees = getVal(c,-1)\n",
    "    agrees = getVal(c,1)\n",
    "    passes = getVal(c,0)\n",
    "    parsedCounts=dict(agrees=agrees, disagrees=disagrees, passes=passes)\n",
    "    countColl[i]['parsedCounts']= parsedCounts\n",
    "    del countColl[i]['counts']\n",
    "    #pprint(countColl[i])\n",
    "    #print()\n",
    "    \n",
    "DataFrame(countColl)"
   ]
  },
  {
   "cell_type": "code",
   "execution_count": 34,
   "metadata": {},
   "outputs": [
    {
     "output_type": "execute_result",
     "data": {
      "text/plain": "Index(['timestamp', 'datetime', 'comment-id', 'author-id', 'agrees',\n       'disagrees', 'moderated', 'comment-body'],\n      dtype='object')"
     },
     "metadata": {},
     "execution_count": 34
    }
   ],
   "source": [
    "comments.columns"
   ]
  },
  {
   "cell_type": "code",
   "execution_count": 16,
   "metadata": {},
   "outputs": [
    {
     "output_type": "execute_result",
     "data": {
      "text/plain": "     comment-id  agrees  disagrees  \\\n0           298       1          0   \n1           306       1          0   \n2           296      25          4   \n3           315      43          1   \n4           314       1          0   \n..          ...     ...        ...   \n311           7       0          0   \n312           6       0          0   \n313           5      48        125   \n314           3      29         13   \n315           2      50        144   \n\n                                          comment-body  \n0    The youth need to be hugely involved in this -...  \n1    Dogs should be kept on the leash at all times ...  \n2    Biodiversity needs to be defined in a way that...  \n3    We should recognise and value our indigenous e...  \n4    Biodiversity consultation needs to include exp...  \n..                                                 ...  \n311                             I live in a large city  \n312                      I live in a medium-sized city  \n313  I live in a NZ town (population less than 50,000)  \n314                                          I am male  \n315                         I am 55 years old or older  \n\n[316 rows x 4 columns]",
      "text/html": "<div>\n<style scoped>\n    .dataframe tbody tr th:only-of-type {\n        vertical-align: middle;\n    }\n\n    .dataframe tbody tr th {\n        vertical-align: top;\n    }\n\n    .dataframe thead th {\n        text-align: right;\n    }\n</style>\n<table border=\"1\" class=\"dataframe\">\n  <thead>\n    <tr style=\"text-align: right;\">\n      <th></th>\n      <th>comment-id</th>\n      <th>agrees</th>\n      <th>disagrees</th>\n      <th>comment-body</th>\n    </tr>\n  </thead>\n  <tbody>\n    <tr>\n      <td>0</td>\n      <td>298</td>\n      <td>1</td>\n      <td>0</td>\n      <td>The youth need to be hugely involved in this -...</td>\n    </tr>\n    <tr>\n      <td>1</td>\n      <td>306</td>\n      <td>1</td>\n      <td>0</td>\n      <td>Dogs should be kept on the leash at all times ...</td>\n    </tr>\n    <tr>\n      <td>2</td>\n      <td>296</td>\n      <td>25</td>\n      <td>4</td>\n      <td>Biodiversity needs to be defined in a way that...</td>\n    </tr>\n    <tr>\n      <td>3</td>\n      <td>315</td>\n      <td>43</td>\n      <td>1</td>\n      <td>We should recognise and value our indigenous e...</td>\n    </tr>\n    <tr>\n      <td>4</td>\n      <td>314</td>\n      <td>1</td>\n      <td>0</td>\n      <td>Biodiversity consultation needs to include exp...</td>\n    </tr>\n    <tr>\n      <td>...</td>\n      <td>...</td>\n      <td>...</td>\n      <td>...</td>\n      <td>...</td>\n    </tr>\n    <tr>\n      <td>311</td>\n      <td>7</td>\n      <td>0</td>\n      <td>0</td>\n      <td>I live in a large city</td>\n    </tr>\n    <tr>\n      <td>312</td>\n      <td>6</td>\n      <td>0</td>\n      <td>0</td>\n      <td>I live in a medium-sized city</td>\n    </tr>\n    <tr>\n      <td>313</td>\n      <td>5</td>\n      <td>48</td>\n      <td>125</td>\n      <td>I live in a NZ town (population less than 50,000)</td>\n    </tr>\n    <tr>\n      <td>314</td>\n      <td>3</td>\n      <td>29</td>\n      <td>13</td>\n      <td>I am male</td>\n    </tr>\n    <tr>\n      <td>315</td>\n      <td>2</td>\n      <td>50</td>\n      <td>144</td>\n      <td>I am 55 years old or older</td>\n    </tr>\n  </tbody>\n</table>\n<p>316 rows × 4 columns</p>\n</div>"
     },
     "metadata": {},
     "execution_count": 16
    }
   ],
   "source": [
    "comments['comment-id agrees disagrees comment-body'.split()] #passes not available"
   ]
  },
  {
   "cell_type": "code",
   "execution_count": 33,
   "metadata": {},
   "outputs": [
    {
     "output_type": "execute_result",
     "data": {
      "text/plain": "{'comment-id': 315,\n 'agrees': 43,\n 'disagrees': 1,\n 'comment-body': \"We should recognise and value our indigenous ecosystems for their contribution to global biodiversity. We've lost so much already\"}"
     },
     "metadata": {},
     "execution_count": 33
    }
   ],
   "source": [
    "comments['comment-id agrees disagrees comment-body'.split()].to_dict('records')[4]"
   ]
  },
  {
   "cell_type": "code",
   "execution_count": null,
   "metadata": {},
   "outputs": [],
   "source": []
  }
 ]
}